{
  "nbformat": 4,
  "nbformat_minor": 0,
  "metadata": {
    "colab": {
      "name": "pdf_extractor.ipynb",
      "provenance": [],
      "collapsed_sections": [],
      "authorship_tag": "ABX9TyOKM8nfY/z0OFhcHiZBYeTL",
      "include_colab_link": true
    },
    "kernelspec": {
      "name": "python3",
      "display_name": "Python 3"
    }
  },
  "cells": [
    {
      "cell_type": "markdown",
      "metadata": {
        "id": "view-in-github",
        "colab_type": "text"
      },
      "source": [
        "<a href=\"https://colab.research.google.com/github/matthewsillence/educational_discourse/blob/master/pdf_extractor.ipynb\" target=\"_parent\"><img src=\"https://colab.research.google.com/assets/colab-badge.svg\" alt=\"Open In Colab\"/></a>"
      ]
    },
    {
      "cell_type": "code",
      "metadata": {
        "id": "RcmBFjaO3qME"
      },
      "source": [
        "### Check version of PyPDF2\n",
        "!pip show pyPDF2"
      ],
      "execution_count": null,
      "outputs": []
    },
    {
      "cell_type": "code",
      "metadata": {
        "id": "tq6RAgtn4ulI"
      },
      "source": [
        "### Alternate installation of PyPDF2 \n",
        "!apt-get install python3-pypdf2"
      ],
      "execution_count": null,
      "outputs": []
    },
    {
      "cell_type": "code",
      "metadata": {
        "id": "MkS5MIkG5bAz"
      },
      "source": [
        "### Import PyPDF2 package\n",
        "import PyPDF2"
      ],
      "execution_count": null,
      "outputs": []
    },
    {
      "cell_type": "code",
      "metadata": {
        "id": "UL4Z1TKgXPnK",
        "colab": {
          "base_uri": "https://localhost:8080/",
          "height": 34
        },
        "outputId": "20025cf5-2221-4e25-86ad-de70b43a5040"
      },
      "source": [
        "### Open PDF with PyPDF2\n",
        "with open('/content/advice-and-guidance-research-degrees.pdf','rb') as pdf_file, open('ed_01.txt', 'w') as text_file:\n",
        "    read_pdf = PyPDF2.PdfFileReader(pdf_file)\n",
        "    number_of_pages = read_pdf.getNumPages()\n",
        "### Create loop for pages, extract text and write to file\n",
        "    for page_number in range(number_of_pages):   # use xrange in Py2\n",
        "        page = read_pdf.getPage(page_number)\n",
        "        page_content = page.extractText()\n",
        "        text_file.write(page_content)"
      ],
      "execution_count": null,
      "outputs": [
        {
          "output_type": "stream",
          "text": [
            "PdfReadWarning: Xref table not zero-indexed. ID numbers for objects will be corrected. [pdf.py:1736]\n"
          ],
          "name": "stderr"
        }
      ]
    },
    {
      "cell_type": "code",
      "metadata": {
        "id": "EkN9uhzFachL"
      },
      "source": [
        "### Open PDF with PyPDF2\n",
        "with open('/content/Code of Practice for Research Degrees_M.pdf','rb') as pdf_file, open('ed_02.txt', 'w') as text_file:\n",
        "    read_pdf = PyPDF2.PdfFileReader(pdf_file)\n",
        "    number_of_pages = read_pdf.getNumPages()\n",
        "### Create loop for pages, extract text and write to file\n",
        "    for page_number in range(number_of_pages):   # use xrange in Py2\n",
        "        page = read_pdf.getPage(page_number)\n",
        "        page_content = page.extractText()\n",
        "        text_file.write(page_content)"
      ],
      "execution_count": null,
      "outputs": []
    },
    {
      "cell_type": "code",
      "metadata": {
        "id": "k6zvb-uqabwt"
      },
      "source": [
        "### Open PDF with PyPDF2\n",
        "with open('/content/Good-Supervisory-Practice-Framework-Stan-Taylor-Research-Supervision-Recognition-Programme-UK-Council-for-Graduate-Education-2.pdf','rb') as pdf_file, open('ed_03.txt', 'w') as text_file:\n",
        "    read_pdf = PyPDF2.PdfFileReader(pdf_file)\n",
        "    number_of_pages = read_pdf.getNumPages()\n",
        "### Create loop for pages, extract text and write to file\n",
        "    for page_number in range(number_of_pages):   # use xrange in Py2\n",
        "        page = read_pdf.getPage(page_number)\n",
        "        page_content = page.extractText()\n",
        "        text_file.write(page_content)"
      ],
      "execution_count": null,
      "outputs": []
    },
    {
      "cell_type": "code",
      "metadata": {
        "id": "ulC7tcA5a2fi"
      },
      "source": [
        "### Open PDF with PyPDF2\n",
        "with open('/content/HEFCE-report _Exploring-wellbeing&mental-health-support-for-PGRs_May 2018.pdf','rb') as pdf_file, open('ed_04.txt', 'w') as text_file:\n",
        "    read_pdf = PyPDF2.PdfFileReader(pdf_file)\n",
        "    number_of_pages = read_pdf.getNumPages()\n",
        "### Create loop for pages, extract text and write to file\n",
        "    for page_number in range(number_of_pages):   # use xrange in Py2\n",
        "        page = read_pdf.getPage(page_number)\n",
        "        page_content = page.extractText()\n",
        "        text_file.write(page_content)"
      ],
      "execution_count": null,
      "outputs": []
    },
    {
      "cell_type": "code",
      "metadata": {
        "id": "ip5Dh7WdbAUz"
      },
      "source": [
        "### Open PDF with PyPDF2\n",
        "with open('/content/Pinch Points  Good Practice Solutions Supporting Mental Health  Wellbeing of PGRs - Mental Health  Wellbeing Working Group - UK Council for Graduate Education.pdf','rb') as pdf_file, open('ed_05.txt', 'w') as text_file:\n",
        "    read_pdf = PyPDF2.PdfFileReader(pdf_file)\n",
        "    number_of_pages = read_pdf.getNumPages()\n",
        "### Create loop for pages, extract text and write to file\n",
        "    for page_number in range(number_of_pages):   # use xrange in Py2\n",
        "        page = read_pdf.getPage(page_number)\n",
        "        page_content = page.extractText()\n",
        "        text_file.write(page_content)"
      ],
      "execution_count": null,
      "outputs": []
    },
    {
      "cell_type": "code",
      "metadata": {
        "id": "4iW-Tdo1bMmQ"
      },
      "source": [
        "### Open PDF with PyPDF2\n",
        "with open('/content/RCUKtraininggrantguide.pdf','rb') as pdf_file, open('ed_06.txt', 'w') as text_file:\n",
        "    read_pdf = PyPDF2.PdfFileReader(pdf_file)\n",
        "    number_of_pages = read_pdf.getNumPages()\n",
        "### Create loop for pages, extract text and write to file\n",
        "    for page_number in range(number_of_pages):   # use xrange in Py2\n",
        "        page = read_pdf.getPage(page_number)\n",
        "        page_content = page.extractText()\n",
        "        text_file.write(page_content)"
      ],
      "execution_count": null,
      "outputs": []
    },
    {
      "cell_type": "code",
      "metadata": {
        "id": "U8YDAVz-bUij"
      },
      "source": [
        "### Open PDF with PyPDF2\n",
        "with open('/content/RDPD 1- Extensions to PoS and Registration-only Period for Research_M.pdf','rb') as pdf_file, open('ed_07.txt', 'w') as text_file:\n",
        "    read_pdf = PyPDF2.PdfFileReader(pdf_file)\n",
        "    number_of_pages = read_pdf.getNumPages()\n",
        "### Create loop for pages, extract text and write to file\n",
        "    for page_number in range(number_of_pages):   # use xrange in Py2\n",
        "        page = read_pdf.getPage(page_number)\n",
        "        page_content = page.extractText()\n",
        "        text_file.write(page_content)"
      ],
      "execution_count": null,
      "outputs": []
    },
    {
      "cell_type": "code",
      "metadata": {
        "id": "1DtO9yLRbeBL"
      },
      "source": [
        "### Open PDF with PyPDF2\n",
        "with open('/content/RDPD 10 - Approval of new research degree awards or changes to Research Degree Programmes_M.pdf','rb') as pdf_file, open('ed_08.txt', 'w') as text_file:\n",
        "    read_pdf = PyPDF2.PdfFileReader(pdf_file)\n",
        "    number_of_pages = read_pdf.getNumPages()\n",
        "### Create loop for pages, extract text and write to file\n",
        "    for page_number in range(number_of_pages):   # use xrange in Py2\n",
        "        page = read_pdf.getPage(page_number)\n",
        "        page_content = page.extractText()\n",
        "        text_file.write(page_content)"
      ],
      "execution_count": null,
      "outputs": []
    },
    {
      "cell_type": "code",
      "metadata": {
        "id": "ErXMF9sAbuAr"
      },
      "source": [
        "### Open PDF with PyPDF2\n",
        "with open('/content/RDPD 11 - Research Ethics Approval Framework_M.pdf','rb') as pdf_file, open('ed_09.txt', 'w') as text_file:\n",
        "    read_pdf = PyPDF2.PdfFileReader(pdf_file)\n",
        "    number_of_pages = read_pdf.getNumPages()\n",
        "### Create loop for pages, extract text and write to file\n",
        "    for page_number in range(number_of_pages):   # use xrange in Py2\n",
        "        page = read_pdf.getPage(page_number)\n",
        "        page_content = page.extractText()\n",
        "        text_file.write(page_content)"
      ],
      "execution_count": null,
      "outputs": []
    },
    {
      "cell_type": "code",
      "metadata": {
        "id": "rjwnefYBb2kx"
      },
      "source": [
        "### Open PDF with PyPDF2\n",
        "with open('/content/RDPD 12 - Guidelines for Probationary Review_M.pdf','rb') as pdf_file, open('ed_10.txt', 'w') as text_file:\n",
        "    read_pdf = PyPDF2.PdfFileReader(pdf_file)\n",
        "    number_of_pages = read_pdf.getNumPages()\n",
        "### Create loop for pages, extract text and write to file\n",
        "    for page_number in range(number_of_pages):   # use xrange in Py2\n",
        "        page = read_pdf.getPage(page_number)\n",
        "        page_content = page.extractText()\n",
        "        text_file.write(page_content)"
      ],
      "execution_count": null,
      "outputs": []
    },
    {
      "cell_type": "code",
      "metadata": {
        "id": "gN9tfOAFb9QS"
      },
      "source": [
        "### Open PDF with PyPDF2\n",
        "with open('/content/RDPD 13 - Policy on Split-Site PhD Partnerships_M.pdf','rb') as pdf_file, open('ed_11.txt', 'w') as text_file:\n",
        "    read_pdf = PyPDF2.PdfFileReader(pdf_file)\n",
        "    number_of_pages = read_pdf.getNumPages()\n",
        "### Create loop for pages, extract text and write to file\n",
        "    for page_number in range(number_of_pages):   # use xrange in Py2\n",
        "        page = read_pdf.getPage(page_number)\n",
        "        page_content = page.extractText()\n",
        "        text_file.write(page_content)"
      ],
      "execution_count": null,
      "outputs": []
    },
    {
      "cell_type": "code",
      "metadata": {
        "id": "i3fYHpgIcIhU"
      },
      "source": [
        "### Open PDF with PyPDF2\n",
        "with open('/content/RDPD 14 - Policy on PGR Student Employment in Teaching at UEA_M.pdf','rb') as pdf_file, open('ed_12.txt', 'w') as text_file:\n",
        "    read_pdf = PyPDF2.PdfFileReader(pdf_file)\n",
        "    number_of_pages = read_pdf.getNumPages()\n",
        "### Create loop for pages, extract text and write to file\n",
        "    for page_number in range(number_of_pages):   # use xrange in Py2\n",
        "        page = read_pdf.getPage(page_number)\n",
        "        page_content = page.extractText()\n",
        "        text_file.write(page_content)"
      ],
      "execution_count": null,
      "outputs": []
    },
    {
      "cell_type": "code",
      "metadata": {
        "id": "IhdTogKBcPn7"
      },
      "source": [
        "### Open PDF with PyPDF2\n",
        "with open('/content/RDPD 2 - Continuation Fees_M.pdf','rb') as pdf_file, open('ed_13.txt', 'w') as text_file:\n",
        "    read_pdf = PyPDF2.PdfFileReader(pdf_file)\n",
        "    number_of_pages = read_pdf.getNumPages()\n",
        "### Create loop for pages, extract text and write to file\n",
        "    for page_number in range(number_of_pages):   # use xrange in Py2\n",
        "        page = read_pdf.getPage(page_number)\n",
        "        page_content = page.extractText()\n",
        "        text_file.write(page_content)"
      ],
      "execution_count": null,
      "outputs": []
    },
    {
      "cell_type": "code",
      "metadata": {
        "id": "85RvNq4jcYRS"
      },
      "source": [
        "### Open PDF with PyPDF2\n",
        "with open('/content/RDPD 3 - Research Degrees Submission Presentation Consultation and Borrowing of Theses_M.pdf','rb') as pdf_file, open('ed_14.txt', 'w') as text_file:\n",
        "    read_pdf = PyPDF2.PdfFileReader(pdf_file)\n",
        "    number_of_pages = read_pdf.getNumPages()\n",
        "### Create loop for pages, extract text and write to file\n",
        "    for page_number in range(number_of_pages):   # use xrange in Py2\n",
        "        page = read_pdf.getPage(page_number)\n",
        "        page_content = page.extractText()\n",
        "        text_file.write(page_content)"
      ],
      "execution_count": null,
      "outputs": []
    },
    {
      "cell_type": "code",
      "metadata": {
        "id": "RzuVPD3-cd_b"
      },
      "source": [
        "### Open PDF with PyPDF2\n",
        "with open('/content/RDPD 4 - Research at UEA A Guide to Good Practice_M.pdf','rb') as pdf_file, open('ed_15.txt', 'w') as text_file:\n",
        "    read_pdf = PyPDF2.PdfFileReader(pdf_file)\n",
        "    number_of_pages = read_pdf.getNumPages()\n",
        "### Create loop for pages, extract text and write to file\n",
        "    for page_number in range(number_of_pages):   # use xrange in Py2\n",
        "        page = read_pdf.getPage(page_number)\n",
        "        page_content = page.extractText()\n",
        "        text_file.write(page_content)"
      ],
      "execution_count": null,
      "outputs": []
    },
    {
      "cell_type": "code",
      "metadata": {
        "id": "7XUeTkR0cnrj"
      },
      "source": [
        "### Open PDF with PyPDF2\n",
        "with open('/content/RDPD 6 - Classification of Students as Category A and Staff Candidates_M.pdf','rb') as pdf_file, open('ed_16.txt', 'w') as text_file:\n",
        "    read_pdf = PyPDF2.PdfFileReader(pdf_file)\n",
        "    number_of_pages = read_pdf.getNumPages()\n",
        "### Create loop for pages, extract text and write to file\n",
        "    for page_number in range(number_of_pages):   # use xrange in Py2\n",
        "        page = read_pdf.getPage(page_number)\n",
        "        page_content = page.extractText()\n",
        "        text_file.write(page_content)"
      ],
      "execution_count": null,
      "outputs": []
    },
    {
      "cell_type": "code",
      "metadata": {
        "id": "nKH1nwAGcsm6"
      },
      "source": [
        "### Open PDF with PyPDF2\n",
        "with open('/content/RDPD 7 - Guide to Good Supervisory Practice_M.pdf','rb') as pdf_file, open('ed_17.txt', 'w') as text_file:\n",
        "    read_pdf = PyPDF2.PdfFileReader(pdf_file)\n",
        "    number_of_pages = read_pdf.getNumPages()\n",
        "### Create loop for pages, extract text and write to file\n",
        "    for page_number in range(number_of_pages):   # use xrange in Py2\n",
        "        page = read_pdf.getPage(page_number)\n",
        "        page_content = page.extractText()\n",
        "        text_file.write(page_content)"
      ],
      "execution_count": null,
      "outputs": []
    },
    {
      "cell_type": "code",
      "metadata": {
        "id": "ROmc9zkNcymc"
      },
      "source": [
        "### Open PDF with PyPDF2\n",
        "with open('/content/RDPD 8 - CoP for the Examination of Research Degree Awards at UEA_M.pdf','rb') as pdf_file, open('ed_18.txt', 'w') as text_file:\n",
        "    read_pdf = PyPDF2.PdfFileReader(pdf_file)\n",
        "    number_of_pages = read_pdf.getNumPages()\n",
        "### Create loop for pages, extract text and write to file\n",
        "    for page_number in range(number_of_pages):   # use xrange in Py2\n",
        "        page = read_pdf.getPage(page_number)\n",
        "        page_content = page.extractText()\n",
        "        text_file.write(page_content)"
      ],
      "execution_count": null,
      "outputs": []
    },
    {
      "cell_type": "code",
      "metadata": {
        "id": "9OsC0IEtc5sj"
      },
      "source": [
        "### Open PDF with PyPDF2\n",
        "with open('/content/RDPD 9 - Role of the Independent Chair_M.pdf','rb') as pdf_file, open('ed_19.txt', 'w') as text_file:\n",
        "    read_pdf = PyPDF2.PdfFileReader(pdf_file)\n",
        "    number_of_pages = read_pdf.getNumPages()\n",
        "### Create loop for pages, extract text and write to file\n",
        "    for page_number in range(number_of_pages):   # use xrange in Py2\n",
        "        page = read_pdf.getPage(page_number)\n",
        "        page_content = page.extractText()\n",
        "        text_file.write(page_content)"
      ],
      "execution_count": null,
      "outputs": []
    },
    {
      "cell_type": "code",
      "metadata": {
        "id": "fszUreA4c_GX"
      },
      "source": [
        "### Open PDF with PyPDF2\n",
        "with open('/content/Researcher-Development-Statement-RDS-Vitae.pdf','rb') as pdf_file, open('ed_20.txt', 'w') as text_file:\n",
        "    read_pdf = PyPDF2.PdfFileReader(pdf_file)\n",
        "    number_of_pages = read_pdf.getNumPages()\n",
        "### Create loop for pages, extract text and write to file\n",
        "    for page_number in range(number_of_pages):   # use xrange in Py2\n",
        "        page = read_pdf.getPage(page_number)\n",
        "        page_content = page.extractText()\n",
        "        text_file.write(page_content)"
      ],
      "execution_count": null,
      "outputs": []
    },
    {
      "cell_type": "code",
      "metadata": {
        "id": "CYNXhFtsdEA5"
      },
      "source": [
        "### Open PDF with PyPDF2\n",
        "with open('/content/chapter-b11_-research-degrees.pdf','rb') as pdf_file, open('ed_21.txt', 'w') as text_file:\n",
        "    read_pdf = PyPDF2.PdfFileReader(pdf_file)\n",
        "    number_of_pages = read_pdf.getNumPages()\n",
        "### Create loop for pages, extract text and write to file\n",
        "    for page_number in range(number_of_pages):   # use xrange in Py2\n",
        "        page = read_pdf.getPage(page_number)\n",
        "        page_content = page.extractText()\n",
        "        text_file.write(page_content)"
      ],
      "execution_count": null,
      "outputs": []
    },
    {
      "cell_type": "code",
      "metadata": {
        "id": "Aml11BKqdK5h",
        "colab": {
          "base_uri": "https://localhost:8080/",
          "height": 34
        },
        "outputId": "f2259e25-441d-422e-9195-11179ec17c46"
      },
      "source": [
        "### Open PDF with PyPDF2\n",
        "with open('/content/qaa-viewpoint-doctoral-students.pdf','rb') as pdf_file, open('ed_22.txt', 'w') as text_file:\n",
        "    read_pdf = PyPDF2.PdfFileReader(pdf_file)\n",
        "    number_of_pages = read_pdf.getNumPages()\n",
        "### Create loop for pages, extract text and write to file\n",
        "    for page_number in range(number_of_pages):   # use xrange in Py2\n",
        "        page = read_pdf.getPage(page_number)\n",
        "        page_content = page.extractText()\n",
        "        text_file.write(page_content)"
      ],
      "execution_count": null,
      "outputs": [
        {
          "output_type": "stream",
          "text": [
            "PdfReadWarning: Xref table not zero-indexed. ID numbers for objects will be corrected. [pdf.py:1736]\n"
          ],
          "name": "stderr"
        }
      ]
    },
    {
      "cell_type": "code",
      "metadata": {
        "id": "TRwryXCBdPLb",
        "colab": {
          "base_uri": "https://localhost:8080/",
          "height": 34
        },
        "outputId": "dcefe944-22d5-463b-bf29-7c63cdf8e1fd"
      },
      "source": [
        "### Open PDF with PyPDF2\n",
        "with open('/content/qaa-viewpoint-doctoral-students.pdf','rb') as pdf_file, open('ed_22.txt', 'w') as text_file:\n",
        "    read_pdf = PyPDF2.PdfFileReader(pdf_file)\n",
        "    number_of_pages = read_pdf.getNumPages()\n",
        "### Create loop for pages, extract text and write to file\n",
        "    for page_number in range(number_of_pages):   # use xrange in Py2\n",
        "        page = read_pdf.getPage(page_number)\n",
        "        page_content = page.extractText()\n",
        "        text_file.write(page_content)"
      ],
      "execution_count": null,
      "outputs": [
        {
          "output_type": "stream",
          "text": [
            "PdfReadWarning: Xref table not zero-indexed. ID numbers for objects will be corrected. [pdf.py:1736]\n"
          ],
          "name": "stderr"
        }
      ]
    },
    {
      "cell_type": "code",
      "metadata": {
        "id": "oMnlwE8s71Oj"
      },
      "source": [
        "### Check pdf is encrypted or not\n",
        "read_pdf.getIsEncrypted()"
      ],
      "execution_count": null,
      "outputs": []
    },
    {
      "cell_type": "code",
      "metadata": {
        "id": "Jj2oKDMH7448"
      },
      "source": [
        "### Check no. of pages\n",
        "read_pdf.numPages"
      ],
      "execution_count": null,
      "outputs": []
    }
  ]
}