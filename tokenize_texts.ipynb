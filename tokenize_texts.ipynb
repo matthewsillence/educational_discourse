{
  "nbformat": 4,
  "nbformat_minor": 0,
  "metadata": {
    "colab": {
      "name": "tokenize_texts.ipynb",
      "provenance": [],
      "authorship_tag": "ABX9TyMQqT9M1tEEsj39In3biUH3",
      "include_colab_link": true
    },
    "kernelspec": {
      "name": "python3",
      "display_name": "Python 3"
    }
  },
  "cells": [
    {
      "cell_type": "markdown",
      "metadata": {
        "id": "view-in-github",
        "colab_type": "text"
      },
      "source": [
        "<a href=\"https://colab.research.google.com/github/matthewsillence/educational_discourse/blob/master/tokenize_texts.ipynb\" target=\"_parent\"><img src=\"https://colab.research.google.com/assets/colab-badge.svg\" alt=\"Open In Colab\"/></a>"
      ]
    },
    {
      "cell_type": "code",
      "metadata": {
        "id": "8cYpCZMgGjjT",
        "colab": {
          "base_uri": "https://localhost:8080/"
        },
        "outputId": "bc95a113-37e3-458a-b0fd-f76bd94c49f8"
      },
      "source": [
        "# Most frequent words\n",
        "\n",
        "import pprint\n",
        "import pandas as pd\n",
        "\n",
        "import nltk\n",
        "nltk.download('punkt')\n",
        "\n",
        "\n",
        "F_IN = 'subjects.txt'\n",
        "\n",
        "with open(F_IN, 'r', encoding='utf-8', newline='\\n') as f_in:\n",
        "    raw_text = f_in.read()\n",
        "    tokens = nltk.word_tokenize(raw_text)\n",
        "    freq_dist = nltk.FreqDist(tokens)\n",
        "    print(freq_dist.most_common(100))\n",
        "\n",
        "df = pd.DataFrame(freq_dist.most_common(100))\n",
        "print(df)\n",
        "\n",
        "df.to_csv('data.csv', index = False)\n",
        "\n"
      ],
      "execution_count": null,
      "outputs": [
        {
          "output_type": "stream",
          "text": [
            "[nltk_data] Downloading package punkt to /root/nltk_data...\n",
            "[nltk_data]   Package punkt is already up-to-date!\n",
            "[(':', 5397), ('Subject', 3041), ('-', 854), ('Re', 846), ('RE', 838), ('and', 576), ('Arts', 567), ('in', 423), ('PGR', 416), ('for', 387), ('to', 269), ('of', 265), ('(', 232), (')', 231), ('the', 229), ('HUM', 220), ('you', 219), ('2020', 183), ('Humanities', 181), ('on', 171), ('Faculty', 168), ('Graduate', 167), ('School', 167), ('a', 163), ('01.13', 155), ('from', 144), ('.', 127), ('space', 126), ('PPD', 123), ('01.06', 121), ('FW', 116), ('Training', 115), ('Desk', 114), ('with', 114), (',', 112), ('Matthew', 107), ('Sillence', 107), ('?', 105), ('sent', 103), ('Research', 102), ('new', 101), ('A', 100), ('please', 100), ('shared', 100), ('2020-21', 98), ('Staff', 97), ('Access', 97), ('YEAR', 95), ('LONG', 95), ('``', 95), ('Induction', 95), ('announcement', 95), (\"''\", 93), (\"'s\", 85), ('Dr', 85), ('UEA', 83), ('Update', 80), ('Building', 79), ('spaces', 78), ('Referencing', 77), ('Teaching', 75), ('Bullet', 74), ('September', 72), ('without', 71), ('October', 70), ('MODULE', 69), ('November', 68), ('7', 67), ('tears', 66), ('Review', 62), ('1', 61), ('2019/0', 61), ('Programme', 61), ('2020/1', 59), ('up', 58), ('Personal', 58), ('Professional', 57), ('Development', 55), ('layout', 54), ('works', 54), ('0.66/68', 53), ('2', 50), ('Follow', 50), ('Locker', 50), ('Annual', 50), ('desk', 49), ('Preparing', 47), ('Teach', 47), ('PhD', 47), ('POSTGRADUATE', 46), ('RESEARCH', 46), ('SUPERVISION', 46), ('AND', 46), ('EXAMINATION', 46), ('application', 46), ('journaling', 46), ('Latin', 46), ('Document', 46), ('module', 45), ('PPLP7009X', 45)]\n",
            "             0     1\n",
            "0            :  5397\n",
            "1      Subject  3041\n",
            "2            -   854\n",
            "3           Re   846\n",
            "4           RE   838\n",
            "..         ...   ...\n",
            "95  journaling    46\n",
            "96       Latin    46\n",
            "97    Document    46\n",
            "98      module    45\n",
            "99   PPLP7009X    45\n",
            "\n",
            "[100 rows x 2 columns]\n"
          ],
          "name": "stdout"
        }
      ]
    }
  ]
}